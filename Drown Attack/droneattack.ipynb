{
 "cells": [
  {
   "cell_type": "markdown",
   "metadata": {},
   "source": [
    "# Pakistan Drone Attacks"
   ]
  },
  {
   "cell_type": "markdown",
   "metadata": {},
   "source": [
    "### Questions\n",
    "\n",
    "• How many people got killed and injured per year in last 12 years?\n",
    "\n",
    "• How many attacks involved killing of actual terrorists from Al-Qaeeda and Taliban?\n",
    "\n",
    "• How many attacks involved women and children?\n",
    "\n",
    "• Visualize drone attacks on timeline\n",
    "\n",
    "• Find out any correlation with number of drone attacks with specific date and time, for example, do we have more drone attacks in September?\n",
    "\n",
    "• Find out any correlation with drone attacks and major global events (US funding to Pakistan and/or Afghanistan, Friendly talks with terrorist outfits by local or foreign government?)\n",
    "\n",
    "• The number of drone attacks in Bush Vs Obama tenure?\n",
    "\n",
    "• The number of drone attacks versus the global increase/decrease in terrorism?\n",
    "\n",
    "• Correlation between number of drone strikes and suicide bombings in Pakistan"
   ]
  },
  {
   "cell_type": "markdown",
   "metadata": {},
   "source": [
    "### import Libraries"
   ]
  },
  {
   "cell_type": "code",
   "execution_count": 5,
   "metadata": {},
   "outputs": [],
   "source": [
    "import numpy as np # linear algebra\n",
    "import pandas as pd # data processing, CSV file I/O (e.g. pd.read_csv)\n",
    "import datetime # for datetime processing\n",
    "\n",
    "# Import for Visualization\n",
    "import matplotlib.pyplot as plt\n",
    "import seaborn as sns\n",
    "import plotly.graph_objs as go\n",
    "from plotly.offline import iplot\n",
    "\n",
    "# Import for Map Visualization\n",
    "import folium\n",
    "from folium import plugins\n"
   ]
  },
  {
   "cell_type": "markdown",
   "metadata": {},
   "source": [
    "### Load Deta Set"
   ]
  },
  {
   "cell_type": "code",
   "execution_count": 22,
   "metadata": {},
   "outputs": [
    {
     "name": "stdout",
     "output_type": "stream",
     "text": [
      "Failed to read with encoding utf-8\n"
     ]
    }
   ],
   "source": [
    "# Data Loading ...\n",
    "# Try different encodings until one works\n",
    "encodings = ['utf-8', 'latin1', 'iso-8859-1', 'windows-1252']\n",
    "for encoding in encodings:\n",
    "    try:\n",
    "        df1 = pd.read_csv(r'DroneAttacks.csv', encoding=encoding)\n",
    "        df2 = pd.read_csv(r'DroneAttacks2.csv', encoding=encoding)\n",
    "        df3 = pd.read_csv(r'DroneAttacks3.csv', encoding=encoding)\n",
    "        break\n",
    "    except UnicodeDecodeError:\n",
    "        print(f\"Failed to read with encoding {encoding}\")\n",
    "\n"
   ]
  },
  {
   "cell_type": "code",
   "execution_count": 28,
   "metadata": {},
   "outputs": [
    {
     "data": {
      "text/plain": [
       "(405, 25)"
      ]
     },
     "execution_count": 28,
     "metadata": {},
     "output_type": "execute_result"
    }
   ],
   "source": [
    "df.shape"
   ]
  },
  {
   "cell_type": "code",
   "execution_count": 29,
   "metadata": {},
   "outputs": [
    {
     "data": {
      "text/plain": [
       "(405, 25)"
      ]
     },
     "execution_count": 29,
     "metadata": {},
     "output_type": "execute_result"
    }
   ],
   "source": [
    "df2.shape"
   ]
  },
  {
   "cell_type": "code",
   "execution_count": 30,
   "metadata": {},
   "outputs": [
    {
     "data": {
      "text/plain": [
       "(405, 25)"
      ]
     },
     "execution_count": 30,
     "metadata": {},
     "output_type": "execute_result"
    }
   ],
   "source": [
    "df3.shape"
   ]
  },
  {
   "cell_type": "markdown",
   "metadata": {},
   "source": [
    "## - How many people got killed and injured per year in last 12 years?"
   ]
  },
  {
   "cell_type": "code",
   "execution_count": 19,
   "metadata": {},
   "outputs": [
    {
     "data": {
      "text/plain": [
       "Index(['S#', 'Date', 'Time', 'Location', 'City', 'Province', 'No of Strike',\n",
       "       'Al-Qaeda', 'Taliban', 'Civilians Min', 'Civilians Max',\n",
       "       'Foreigners Min', 'Foreigners Max', 'Total Died Min', 'Total Died Max',\n",
       "       'Injured Min', 'Injured Max', 'Women/Children  ',\n",
       "       'Special Mention (Site)', 'Comments', 'References', 'Longitude',\n",
       "       'Latitude', 'Temperature(C)', 'Temperature(F)'],\n",
       "      dtype='object')"
      ]
     },
     "execution_count": 19,
     "metadata": {},
     "output_type": "execute_result"
    }
   ],
   "source": [
    "df.columns"
   ]
  },
  {
   "cell_type": "code",
   "execution_count": 31,
   "metadata": {},
   "outputs": [
    {
     "ename": "NameError",
     "evalue": "name 'pk' is not defined",
     "output_type": "error",
     "traceback": [
      "\u001b[1;31m---------------------------------------------------------------------------\u001b[0m",
      "\u001b[1;31mNameError\u001b[0m                                 Traceback (most recent call last)",
      "Cell \u001b[1;32mIn[31], line 1\u001b[0m\n\u001b[1;32m----> 1\u001b[0m \u001b[43mpk\u001b[49m\u001b[38;5;241m.\u001b[39mgroupby([\u001b[38;5;124m\"\u001b[39m\u001b[38;5;124mLongitude\u001b[39m\u001b[38;5;124m\"\u001b[39m, \u001b[38;5;124m\"\u001b[39m\u001b[38;5;124mLatitude\u001b[39m\u001b[38;5;124m\"\u001b[39m])\u001b[38;5;241m.\u001b[39msize()\n",
      "\u001b[1;31mNameError\u001b[0m: name 'pk' is not defined"
     ]
    }
   ],
   "source": [
    "pk.groupby([\"Longitude\", \"Latitude\"]).size()"
   ]
  }
 ],
 "metadata": {
  "kernelspec": {
   "display_name": "env_ml",
   "language": "python",
   "name": "python3"
  },
  "language_info": {
   "codemirror_mode": {
    "name": "ipython",
    "version": 3
   },
   "file_extension": ".py",
   "mimetype": "text/x-python",
   "name": "python",
   "nbconvert_exporter": "python",
   "pygments_lexer": "ipython3",
   "version": "3.12.2"
  }
 },
 "nbformat": 4,
 "nbformat_minor": 2
}
